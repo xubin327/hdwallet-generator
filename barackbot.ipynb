{
 "metadata": {
  "language_info": {
   "codemirror_mode": {
    "name": "ipython",
    "version": 3
   },
   "file_extension": ".py",
   "mimetype": "text/x-python",
   "name": "python",
   "nbconvert_exporter": "python",
   "pygments_lexer": "ipython3",
   "version": "3.7.6-final"
  },
  "orig_nbformat": 2,
  "kernelspec": {
   "name": "python3",
   "display_name": "Python 3.7.6 64-bit (conda)",
   "metadata": {
    "interpreter": {
     "hash": "15e23c9d0c4d04c3f2475d05eeea71023b5bc50102d6a15a7afb9a9240382e69"
    }
   }
  }
 },
 "nbformat": 4,
 "nbformat_minor": 2,
 "cells": [
  {
   "cell_type": "code",
   "execution_count": 1,
   "metadata": {},
   "outputs": [],
   "source": [
    "import websocket, json\n",
    "from binance.client import Client\n",
    "from binance.enums import KLINE_INTERVAL_1MINUTE\n",
    "from datetime import datetime\n",
    "import keys"
   ]
  },
  {
   "cell_type": "code",
   "execution_count": 2,
   "metadata": {},
   "outputs": [],
   "source": [
    "BINANCE_API = keys.BINANCE_API\n",
    "BINANCE_SECRET = keys.BINANCE_SECRET\n",
    "\n",
    "TEST_BINANCE_API = keys.TEST_BINANCE_API\n",
    "TEST_BINANCE_SECRET = keys.TEST_BINANCE_SECRET\n",
    "\n",
    "# for testnet trading\n",
    "test_client = Client(TEST_BINANCE_API, TEST_BINANCE_SECRET)\n",
    "test_client.API_URL = 'https://testnet.binance.vision/api'\n",
    "# test_socket = \"wss://testnet.binance.vision/ws/bnbusdt@kline_1m\"\n",
    "\n",
    "# for production and real prices\n",
    "client = Client(BINANCE_API, BINANCE_SECRET)\n",
    "socket = \"wss://stream.binance.com:9443/ws/bnbusdt@kline_1m\""
   ]
  },
  {
   "cell_type": "code",
   "execution_count": 50,
   "metadata": {},
   "outputs": [],
   "source": [
    "BASE = 'BNB'\n",
    "QUOTE = 'USDT'\n",
    "SYMBOL = BASE+QUOTE\n",
    "LEVER = 5"
   ]
  },
  {
   "cell_type": "code",
   "execution_count": 46,
   "metadata": {},
   "outputs": [],
   "source": [
    "def get_margin_isolated_account_quote_balance(symbol):\n",
    "    try:\n",
    "        account = client.get_isolated_margin_account(symbols=symbol)\n",
    "        if len(account['assets']) == 0:\n",
    "            print(\"There is no isolated margin account {}. Need to create it\".format(symbol))\n",
    "            return -2\n",
    "        else:\n",
    "            if float(account['assets'][0]['quoteAsset']['borrowed']) == 0:\n",
    "                quote_balance = float(account['assets'][0]['quoteAsset']['netAsset'])\n",
    "                return quote_balance \n",
    "            else:\n",
    "                print(\"Quote borrowed > 0\")\n",
    "                return -3\n",
    "    except Exception as e:\n",
    "        print(\"get_margin_solated_account error: {}\".format(e))\n",
    "        return -1"
   ]
  },
  {
   "cell_type": "code",
   "execution_count": 49,
   "metadata": {},
   "outputs": [
    {
     "output_type": "stream",
     "name": "stdout",
     "text": [
      "There is no isolated amrgin account BBUSDT. Need to create it\n"
     ]
    },
    {
     "output_type": "execute_result",
     "data": {
      "text/plain": [
       "-2"
      ]
     },
     "metadata": {},
     "execution_count": 49
    }
   ],
   "source": [
    "get_margin_isolated_account_quote_balance(SYMBOL)"
   ]
  },
  {
   "cell_type": "code",
   "execution_count": null,
   "metadata": {},
   "outputs": [],
   "source": [
    "def margin_buy():\n",
    "    # перевести все usdt со спотового аккаунта\n",
    "    # проверить изолированный аккаунт и сделать, если его нет\n",
    "    # занять денег с плечом\n",
    "    # купить базу\n",
    "    # client.get_isolated_margin_account()"
   ]
  },
  {
   "cell_type": "code",
   "execution_count": null,
   "metadata": {},
   "outputs": [],
   "source": [
    "def margin_sell()\n",
    "    # продать базу\n",
    "    # отдать долг"
   ]
  }
 ]
}