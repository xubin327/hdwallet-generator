{
 "metadata": {
  "language_info": {
   "codemirror_mode": {
    "name": "ipython",
    "version": 3
   },
   "file_extension": ".py",
   "mimetype": "text/x-python",
   "name": "python",
   "nbconvert_exporter": "python",
   "pygments_lexer": "ipython3",
   "version": "3.7.4-final"
  },
  "orig_nbformat": 2,
  "kernelspec": {
   "name": "python3",
   "display_name": "Python 3",
   "language": "python"
  }
 },
 "nbformat": 4,
 "nbformat_minor": 2,
 "cells": [
  {
   "cell_type": "code",
   "execution_count": 30,
   "metadata": {},
   "outputs": [],
   "source": [
    "import websocket, json\n",
    "from binance.client import Client\n",
    "from binance.enums import *\n",
    "from datetime import datetime\n",
    "import keys\n",
    "import decimal"
   ]
  },
  {
   "cell_type": "code",
   "execution_count": 2,
   "metadata": {},
   "outputs": [],
   "source": [
    "BINANCE_API = keys.BINANCE_API\n",
    "BINANCE_SECRET = keys.BINANCE_SECRET\n",
    "\n",
    "TEST_BINANCE_API = keys.TEST_BINANCE_API\n",
    "TEST_BINANCE_SECRET = keys.TEST_BINANCE_SECRET\n",
    "\n",
    "# for testnet trading\n",
    "test_client = Client(TEST_BINANCE_API, TEST_BINANCE_SECRET)\n",
    "test_client.API_URL = 'https://testnet.binance.vision/api'\n",
    "# test_socket = \"wss://testnet.binance.vision/ws/bnbusdt@kline_1m\"\n",
    "\n",
    "# for production and real prices\n",
    "client = Client(BINANCE_API, BINANCE_SECRET)\n",
    "socket = \"wss://stream.binance.com:9443/ws/bnbusdt@kline_1m\""
   ]
  },
  {
   "cell_type": "code",
   "execution_count": 3,
   "metadata": {},
   "outputs": [],
   "source": [
    "BASE = 'BNB'\n",
    "QUOTE = 'USDT'\n",
    "SYMBOL = BASE+QUOTE\n",
    "LEVER = 0.1"
   ]
  },
  {
   "cell_type": "code",
   "execution_count": 4,
   "metadata": {},
   "outputs": [],
   "source": [
    "def get_margin_isolated_account_quote_balance(symbol,client,quote):\n",
    "    try:\n",
    "        account = client.get_isolated_margin_account(symbols=symbol)\n",
    "        if len(account['assets']) == 0:\n",
    "            print(\"There is no isolated margin account {}. Need to create it\".format(symbol))\n",
    "            return -2\n",
    "        else:\n",
    "            if float(account['assets'][0]['quoteAsset']['borrowed']) == 0:\n",
    "                quote_balance = float(account['assets'][0]['quoteAsset']['netAsset'])\n",
    "                print(\"Quote net balance is {} {}\".format(quote_balance,quote))\n",
    "                return quote_balance \n",
    "            else:\n",
    "                print(\"Quote borrowed > 0\")\n",
    "                return -3\n",
    "    except Exception as e:\n",
    "        print(\"get_margin_solated_account error: {}\".format(e))\n",
    "        return -1"
   ]
  },
  {
   "cell_type": "code",
   "execution_count": 5,
   "metadata": {},
   "outputs": [],
   "source": [
    "def create_qoute_loan(symbol,client,quote,quote_net_balance,lever):\n",
    "    try:\n",
    "        amount = quote_net_balance*lever\n",
    "        transaction = client.create_margin_loan(asset=quote,amount=amount,isIsolated='TRUE',symbol=symbol)\n",
    "        if transaction['tranId'] > 0:\n",
    "            account = client.get_isolated_margin_account(symbols=symbol)\n",
    "            quote_loan = float(account['assets'][0]['quoteAsset']['borrowed'])\n",
    "            quote_free = float(account['assets'][0]['quoteAsset']['free'])\n",
    "            print(\"Loan {} is {}, free {} is {}\".format(quote,quote_loan,quote,quote_free))\n",
    "            return quote_free\n",
    "    except Exception as e:\n",
    "        print(\"get_qoute_loan error: {}\".format(e))\n",
    "        return -1"
   ]
  },
  {
   "cell_type": "code",
   "execution_count": null,
   "metadata": {},
   "outputs": [],
   "source": [
    "def market_buy_isolated_margin_order(symbol,client,quantity):\n",
    "    try:\n",
    "        order = client.create_margin_order(\n",
    "            symbol=symbol,\n",
    "            side=SIDE_BUY,\n",
    "            type=ORDER_TYPE_MARKET,\n",
    "            quantity=quantity,\n",
    "            isIsolated='TRUE')\n",
    "        print(\"Margin buy order info: {}\".format(order))\n",
    "    except Exception as e:\n",
    "        print(\"Margin buy order error: {}\".format(e))"
   ]
  },
  {
   "cell_type": "code",
   "execution_count": null,
   "metadata": {},
   "outputs": [],
   "source": [
    "def market_sell_isolated_margin_order(symbol,client,quantity):\n",
    "    try:\n",
    "        order = client.create_margin_order(\n",
    "            symbol=symbol,\n",
    "            side=SIDE_SELL,\n",
    "            type=ORDER_TYPE_MARKET,\n",
    "            quantity=quantity,\n",
    "            isIsolated='TRUE')\n",
    "        print(\"Margin sell order info: {}\".format(order))\n",
    "    except Exception as e:\n",
    "        print(\"Margin sell order error: {}\".format(e))"
   ]
  },
  {
   "cell_type": "code",
   "execution_count": 6,
   "metadata": {},
   "outputs": [],
   "source": [
    "def repay_quote_loan(symbol,client,quote):\n",
    "    try:\n",
    "        account = client.get_isolated_margin_account(symbols=symbol)\n",
    "        borrowed = float(account['assets'][0]['quoteAsset']['borrowed'])\n",
    "        interest = float(account['assets'][0]['quoteAsset']['interest'])\n",
    "        amount = borrowed+interest\n",
    "        transaction = client.repay_margin_loan(asset=quote,amount=amount,isIsolated='TRUE',symbol=symbol)\n",
    "        if transaction['tranId'] > 0:\n",
    "            account = client.get_isolated_margin_account(symbols=symbol)\n",
    "            borrowed = float(account['assets'][0]['quoteAsset']['borrowed'])\n",
    "            net_balance = float(account['assets'][0]['quoteAsset']['netAsset'])\n",
    "            if borrowed == 0:\n",
    "                print(\"Repay is finished. Total net balance is {} {}\".format(net_balance,QUOTE))\n",
    "                return net_balance\n",
    "            else:\n",
    "                Print(\"Something wrong. Borrowed is {} {}\".format(borrowed,QUOTE))\n",
    "                return -2\n",
    "    except Exception as e:\n",
    "        print(\"repay_quote_loan error: {}\".format(e))\n",
    "        return -1"
   ]
  },
  {
   "cell_type": "code",
   "execution_count": null,
   "metadata": {},
   "outputs": [],
   "source": [
    "def get_symbol_limits(symbol):\n",
    "    try:\n",
    "        info = client.get_symbol_info(symbol)\n",
    "        price_filter = str(float(info['filters'][0]['minQty']))[::-1].find('.')\n",
    "        lot_size = str(float(info['filters'][2]['minQty']))[::-1].find('.')\n",
    "        min_notional = str(float(info['filters'][3]['minQty']))[::-1].find('.')\n",
    "        print(\"{} price filter {}, lot size {}, min notional {}\".format(symbol,price_filter,lot_size,min_notional))\n",
    "        return price_filter, lot_size, min_notional\n",
    "    except Exception as e:\n",
    "        print(\"get_symbol_limits error: {}\".format(e))\n",
    "        return 0, 0, 0"
   ]
  },
  {
   "cell_type": "code",
   "execution_count": 17,
   "metadata": {},
   "outputs": [
    {
     "output_type": "stream",
     "name": "stdout",
     "text": [
      "Quote net balance is 5.00889982 USDT\n",
      "Loan USDT is 0.50088998, free USDT is 5.5097898\n",
      "Repay is finished. Total net balance is 5.00886851 USDT\n"
     ]
    },
    {
     "output_type": "execute_result",
     "data": {
      "text/plain": [
       "-3.1309999999784566e-05"
      ]
     },
     "metadata": {},
     "execution_count": 17
    }
   ],
   "source": [
    "price_filter, lot_size, min_notional = get_symbol_limits(symbol)\n",
    "\n",
    "quote_net_balance = get_margin_isolated_account_quote_balance(SYMBOL,client,QUOTE)\n",
    "quote_free_balance = create_qoute_loan(SYMBOL,client,QUOTE,quote_net_balance,LEVER)\n",
    "\n",
    "\n",
    "trades = client.get_recent_trades(symbol=SYMBOL,limit=1)\n",
    "last_quote_price = float(trades[-1]['price'])\n",
    "base_quantity = quote_free_balance/last_quote_price\n",
    "base_quantity_round = \"{:0.0{}f}\".format(base_quantity, lot_size)\n"
   ]
  },
  {
   "cell_type": "code",
   "execution_count": null,
   "metadata": {},
   "outputs": [],
   "source": [
    "new_quote_net_balance = repay_quote_loan(SYMBOL,client,QUOTE)"
   ]
  },
  {
   "cell_type": "code",
   "execution_count": null,
   "metadata": {},
   "outputs": [],
   "source": [
    "def margin_buy():\n",
    "    # перевести все usdt со спотового аккаунта\n",
    "    # проверить изолированный аккаунт и сделать, если его нет\n",
    "    # занять денег с плечом\n",
    "    # купить базовый актив"
   ]
  },
  {
   "cell_type": "code",
   "execution_count": null,
   "metadata": {},
   "outputs": [],
   "source": [
    "def margin_sell()\n",
    "    # продать базовый актив\n",
    "    # отдать долг"
   ]
  },
  {
   "cell_type": "code",
   "execution_count": 50,
   "metadata": {},
   "outputs": [
    {
     "output_type": "execute_result",
     "data": {
      "text/plain": [
       "{'symbol': 'BNBUSDT',\n",
       " 'orderId': 2912647,\n",
       " 'orderListId': -1,\n",
       " 'clientOrderId': 'MywlnxHeS9KuDxbhHRHpT0',\n",
       " 'price': '255.10250000',\n",
       " 'origQty': '0.10000000',\n",
       " 'executedQty': '0.10000000',\n",
       " 'cummulativeQuoteQty': '25.51025000',\n",
       " 'status': 'FILLED',\n",
       " 'timeInForce': 'GTC',\n",
       " 'type': 'LIMIT',\n",
       " 'side': 'BUY',\n",
       " 'stopPrice': '0.00000000',\n",
       " 'icebergQty': '0.00000000',\n",
       " 'time': 1615891527100,\n",
       " 'updateTime': 1615891539710,\n",
       " 'isWorking': True,\n",
       " 'origQuoteOrderQty': '0.00000000'}"
      ]
     },
     "metadata": {},
     "execution_count": 50
    }
   ],
   "source": [
    "test_client.get_order(symbol=SYMBOL,orderId='2912647')"
   ]
  },
  {
   "cell_type": "code",
   "execution_count": null,
   "metadata": {},
   "outputs": [],
   "source": []
  }
 ]
}